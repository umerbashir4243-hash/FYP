{
 "cells": [
  {
   "cell_type": "code",
   "execution_count": 1,
   "id": "e2f27e18-c701-4c57-80f3-2293e72baee7",
   "metadata": {},
   "outputs": [
    {
     "name": "stderr",
     "output_type": "stream",
     "text": [
      "2025-08-17 09:11:25,093 - INFO - Starting IDS pipeline - Dataset: CIC_IDS, Mode: test\n",
      "2025-08-17 09:11:25,106 - INFO - Starting load_dataset...                                        | 0/1 [00:00<?, ?it/s]\n",
      "2025-08-17 09:11:25,110 - INFO - Loading CIC-IDS dataset...\n",
      "2025-08-17 09:11:25,111 - INFO - Starting load_cic_ids_2017...\n",
      "2025-08-17 09:11:26,514 - INFO - Completed load_cic_ids_2017 in 1.40 seconds\n",
      "2025-08-17 09:11:26,517 - INFO - Completed load_dataset in 1.41 seconds\n",
      "2025-08-17 09:11:26,528 - INFO - Starting select_features...                                                           \n",
      "2025-08-17 09:11:54,283 - INFO - Completed select_features in 27.75 seconds                                            \n",
      "2025-08-17 09:11:54,285 - INFO - Processing RandomForest...\n",
      "2025-08-17 09:11:54,289 - INFO - Starting train_model...\n",
      "2025-08-17 09:11:55,962 - INFO - Completed train_model in 1.67 seconds                                                 \n",
      "2025-08-17 09:11:56,059 - INFO - Starting evaluate_model...                                      | 0/1 [00:00<?, ?it/s]\n",
      "2025-08-17 09:11:56,919 - INFO - Completed evaluate_model in 0.86 seconds\n",
      "SHAP RandomForest:   0%|                                                                       | 0/100 [00:00<?, ?it/s]"
     ]
    },
    {
     "data": {
      "application/vnd.jupyter.widget-view+json": {
       "model_id": "9016a13a2e1c48fb83bbecc6bd77f823",
       "version_major": 2,
       "version_minor": 0
      },
      "text/plain": [
       "  0%|          | 0/100 [00:00<?, ?it/s]"
      ]
     },
     "metadata": {},
     "output_type": "display_data"
    },
    {
     "name": "stderr",
     "output_type": "stream",
     "text": [
      "2025-08-17 09:14:02,467 - INFO - Processing SVM...                                                                     \n",
      "2025-08-17 09:14:02,468 - INFO - Starting train_model...\n",
      "2025-08-17 09:14:02,681 - INFO - Completed train_model in 0.21 seconds                                                 \n",
      "2025-08-17 09:14:02,686 - INFO - Starting evaluate_model...                                      | 0/1 [00:00<?, ?it/s]\n",
      "2025-08-17 09:14:03,010 - INFO - Completed evaluate_model in 0.32 seconds\n",
      "SHAP SVM:   0%|                                                                                | 0/100 [00:00<?, ?it/s]"
     ]
    },
    {
     "data": {
      "application/vnd.jupyter.widget-view+json": {
       "model_id": "fa3643dc967d49cfa447b9ce55eb67ce",
       "version_major": 2,
       "version_minor": 0
      },
      "text/plain": [
       "  0%|          | 0/100 [00:00<?, ?it/s]"
      ]
     },
     "metadata": {},
     "output_type": "display_data"
    },
    {
     "name": "stderr",
     "output_type": "stream",
     "text": [
      "2025-08-17 09:14:26,342 - INFO - Pipeline completed successfully.                                                      \n",
      "2025-08-17 09:14:26,352 - INFO - Completed main in 181.27 seconds\n"
     ]
    }
   ],
   "source": [
    "%run main.py"
   ]
  },
  {
   "cell_type": "code",
   "execution_count": null,
   "id": "ad28ac5d-a45d-46e3-aa4a-569ceba03b2a",
   "metadata": {},
   "outputs": [],
   "source": []
  }
 ],
 "metadata": {
  "kernelspec": {
   "display_name": "Python 3 (ipykernel)",
   "language": "python",
   "name": "python3"
  },
  "language_info": {
   "codemirror_mode": {
    "name": "ipython",
    "version": 3
   },
   "file_extension": ".py",
   "mimetype": "text/x-python",
   "name": "python",
   "nbconvert_exporter": "python",
   "pygments_lexer": "ipython3",
   "version": "3.10.18"
  }
 },
 "nbformat": 4,
 "nbformat_minor": 5
}
