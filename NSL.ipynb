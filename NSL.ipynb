{
 "cells": [
  {
   "cell_type": "code",
   "execution_count": 1,
   "id": "d500fdbb-b644-45d6-bddc-fbeb00799451",
   "metadata": {},
   "outputs": [
    {
     "name": "stderr",
     "output_type": "stream",
     "text": [
      "2025-08-18 09:37:08,676 - INFO - Starting IDS pipeline - Dataset: NSL_KDD, Mode: test\n",
      "2025-08-18 09:37:08,681 - INFO - Starting load_dataset...                                        | 0/1 [00:00<?, ?it/s]\n",
      "2025-08-18 09:37:08,682 - INFO - Loading NSL-KDD dataset...\n",
      "2025-08-18 09:37:08,683 - INFO - Starting load_nsl_kdd...\n",
      "2025-08-18 09:37:08,684 - INFO - Loading training data from data\\KDDTrain+_20Percent.txt\n",
      "2025-08-18 09:37:08,845 - INFO - Loading test data from data\\KDDTest-21.txt\n",
      "2025-08-18 09:37:08,928 - INFO - Loaded 25192 training samples and 11850 test samples\n",
      "2025-08-18 09:37:08,937 - INFO - Mapping attack types to binary classification...\n",
      "2025-08-18 09:37:08,967 - INFO - Attack type distribution: Normal=15601, Attacks=21441\n",
      "2025-08-18 09:37:08,985 - INFO - Encoding categorical features: ['protocol_type', 'service', 'flag']\n",
      "2025-08-18 09:37:09,017 - INFO - Applying standard scaling to features...\n",
      "2025-08-18 09:37:09,070 - INFO - Final dataset shape: (37042, 41)\n",
      "2025-08-18 09:37:09,071 - INFO - Feature names: ['duration', 'protocol_type', 'service', 'flag', 'src_bytes', 'dst_bytes', 'land', 'wrong_fragment', 'urgent', 'hot', 'num_failed_logins', 'logged_in', 'num_compromised', 'root_shell', 'su_attempted', 'num_root', 'num_file_creations', 'num_shells', 'num_access_files', 'num_outbound_cmds', 'is_host_login', 'is_guest_login', 'count', 'srv_count', 'serror_rate', 'srv_serror_rate', 'rerror_rate', 'srv_rerror_rate', 'same_srv_rate', 'diff_srv_rate', 'srv_diff_host_rate', 'dst_host_count', 'dst_host_srv_count', 'dst_host_same_srv_rate', 'dst_host_diff_srv_rate', 'dst_host_same_src_port_rate', 'dst_host_srv_diff_host_rate', 'dst_host_serror_rate', 'dst_host_srv_serror_rate', 'dst_host_rerror_rate', 'dst_host_srv_rerror_rate']\n",
      "2025-08-18 09:37:09,073 - INFO - Training set: (25192, 41), Test set: (11850, 41)\n",
      "2025-08-18 09:37:09,079 - INFO - Completed load_nsl_kdd in 0.40 seconds\n",
      "2025-08-18 09:37:09,081 - INFO - Completed load_dataset in 0.40 seconds\n",
      "2025-08-18 09:37:09,084 - INFO - Starting select_features...                                                           \n",
      "2025-08-18 09:37:14,415 - INFO - Completed select_features in 5.33 seconds                                             \n",
      "2025-08-18 09:37:14,416 - INFO - Processing RandomForest...\n",
      "2025-08-18 09:37:14,417 - INFO - Starting train_model...\n",
      "2025-08-18 09:37:16,786 - INFO - Completed train_model in 2.37 seconds                                                 \n",
      "2025-08-18 09:37:16,910 - INFO - Starting evaluate_model...                                      | 0/1 [00:00<?, ?it/s]\n",
      "2025-08-18 09:37:17,595 - INFO - Completed evaluate_model in 0.69 seconds\n",
      "SHAP RandomForest:   0%|                                                                       | 0/100 [00:00<?, ?it/s]"
     ]
    },
    {
     "data": {
      "application/vnd.jupyter.widget-view+json": {
       "model_id": "9bb9e8d4824e426790c87e082d675865",
       "version_major": 2,
       "version_minor": 0
      },
      "text/plain": [
       "  0%|          | 0/100 [00:00<?, ?it/s]"
      ]
     },
     "metadata": {},
     "output_type": "display_data"
    },
    {
     "name": "stderr",
     "output_type": "stream",
     "text": [
      "2025-08-18 09:40:21,843 - INFO - Processing SVM...                                                                     \n",
      "2025-08-18 09:40:21,844 - INFO - Starting train_model...\n",
      "2025-08-18 09:40:22,040 - INFO - Completed train_model in 0.20 seconds                                                 \n",
      "2025-08-18 09:40:22,046 - INFO - Starting evaluate_model...                                      | 0/1 [00:00<?, ?it/s]\n",
      "2025-08-18 09:40:22,444 - INFO - Completed evaluate_model in 0.40 seconds\n",
      "SHAP SVM:   0%|                                                                                | 0/100 [00:00<?, ?it/s]"
     ]
    },
    {
     "data": {
      "application/vnd.jupyter.widget-view+json": {
       "model_id": "5394e8db47ae4a939932598b4d7f132a",
       "version_major": 2,
       "version_minor": 0
      },
      "text/plain": [
       "  0%|          | 0/100 [00:00<?, ?it/s]"
      ]
     },
     "metadata": {},
     "output_type": "display_data"
    },
    {
     "name": "stderr",
     "output_type": "stream",
     "text": [
      "2025-08-18 09:40:47,408 - INFO - Pipeline completed successfully.                                                      \n",
      "2025-08-18 09:40:47,416 - INFO - Completed main in 218.74 seconds\n"
     ]
    }
   ],
   "source": [
    "%run main.py"
   ]
  },
  {
   "cell_type": "code",
   "execution_count": null,
   "id": "3a126d61-f63a-4a5d-afa9-88cdae6ad242",
   "metadata": {},
   "outputs": [],
   "source": []
  }
 ],
 "metadata": {
  "kernelspec": {
   "display_name": "Python 3 (ipykernel)",
   "language": "python",
   "name": "python3"
  },
  "language_info": {
   "codemirror_mode": {
    "name": "ipython",
    "version": 3
   },
   "file_extension": ".py",
   "mimetype": "text/x-python",
   "name": "python",
   "nbconvert_exporter": "python",
   "pygments_lexer": "ipython3",
   "version": "3.10.18"
  }
 },
 "nbformat": 4,
 "nbformat_minor": 5
}
